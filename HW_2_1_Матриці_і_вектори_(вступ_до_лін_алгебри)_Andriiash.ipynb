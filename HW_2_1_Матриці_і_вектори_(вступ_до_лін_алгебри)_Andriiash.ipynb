{
  "nbformat": 4,
  "nbformat_minor": 0,
  "metadata": {
    "colab": {
      "provenance": [],
      "include_colab_link": true
    },
    "kernelspec": {
      "name": "python3",
      "display_name": "Python 3"
    },
    "language_info": {
      "name": "python"
    }
  },
  "cells": [
    {
      "cell_type": "markdown",
      "metadata": {
        "id": "view-in-github",
        "colab_type": "text"
      },
      "source": [
        "<a href=\"https://colab.research.google.com/github/Alena-Andriyash/ML_Pylieva_tasks/blob/main/HW_2_1_%D0%9C%D0%B0%D1%82%D1%80%D0%B8%D1%86%D1%96_%D1%96_%D0%B2%D0%B5%D0%BA%D1%82%D0%BE%D1%80%D0%B8_(%D0%B2%D1%81%D1%82%D1%83%D0%BF_%D0%B4%D0%BE_%D0%BB%D1%96%D0%BD_%D0%B0%D0%BB%D0%B3%D0%B5%D0%B1%D1%80%D0%B8)_Andriiash.ipynb\" target=\"_parent\"><img src=\"https://colab.research.google.com/assets/colab-badge.svg\" alt=\"Open In Colab\"/></a>"
      ]
    },
    {
      "cell_type": "code",
      "source": [
        "import numpy as np\n",
        "import random"
      ],
      "metadata": {
        "id": "-QjKTE9kaWUx"
      },
      "execution_count": 1,
      "outputs": []
    },
    {
      "cell_type": "markdown",
      "source": [
        "### Завдання 1: Створення матриць та векторів\n",
        "1. Створіть `numpy` вектор `vector` розмірністю 10 з випадковими дійсними значеннями в діапазоні від 0 до 1. Можна скористатись двома альтернативними варіантами:\n",
        "  1. Генерація випадкових чисел з модулем [`random.uniform`](https://docs.python.org/3/library/random.html).\n",
        "  2. Створення вектора з допомогою метода `numpy` [np.random.rand](https://numpy.org/doc/stable/reference/random/generated/numpy.random.rand.html)\n",
        "\n",
        "2. Створіть матрицю `matrix` типу `numpy.array` розмірності 3x3 з наступними значеннями\n",
        "\n",
        "  $$\n",
        "  matrix = \\begin{bmatrix}\n",
        "  11 & 14 & 17 \\\\\n",
        "  20 & 23 & 26 \\\\\n",
        "  29 & 32 & 35\n",
        "  \\end{bmatrix}\n",
        "  $$\n",
        "\n",
        "  будь-яким відомими Вам способом.\n",
        "\n",
        "Виведіть на екран вектор і матрицю, а також їх розміри.\n"
      ],
      "metadata": {
        "id": "efug1V4CM0lT"
      }
    },
    {
      "cell_type": "code",
      "source": [
        "vector = np.random.rand(10)"
      ],
      "metadata": {
        "id": "jxA_lG2_VIMe"
      },
      "execution_count": 38,
      "outputs": []
    },
    {
      "cell_type": "code",
      "source": [
        "vector"
      ],
      "metadata": {
        "colab": {
          "base_uri": "https://localhost:8080/"
        },
        "id": "Sh5r8BTPajR_",
        "outputId": "f1475145-8554-4b23-9be5-d28526f74736"
      },
      "execution_count": 40,
      "outputs": [
        {
          "output_type": "execute_result",
          "data": {
            "text/plain": [
              "array([0.3667155 , 0.48502077, 0.22026366, 0.49528836, 0.69895206,\n",
              "       0.692657  , 0.3004871 , 0.14959732, 0.98691003, 0.44585288])"
            ]
          },
          "metadata": {},
          "execution_count": 40
        }
      ]
    },
    {
      "cell_type": "code",
      "source": [
        "matrix = np.array([\n",
        "    [11, 20, 29],\n",
        "    [14, 23, 32],\n",
        "    [17, 26, 35]\n",
        "])\n",
        "\n",
        "matrix"
      ],
      "metadata": {
        "colab": {
          "base_uri": "https://localhost:8080/"
        },
        "id": "VRoc3YR_bi1a",
        "outputId": "f59ba3a5-1ea3-49d0-e616-de4a1da8c96c"
      },
      "execution_count": 4,
      "outputs": [
        {
          "output_type": "execute_result",
          "data": {
            "text/plain": [
              "array([[11, 20, 29],\n",
              "       [14, 23, 32],\n",
              "       [17, 26, 35]])"
            ]
          },
          "metadata": {},
          "execution_count": 4
        }
      ]
    },
    {
      "cell_type": "markdown",
      "source": [
        "\n",
        "### Завдання 2: Операції над векторами та матрицями\n",
        "Виконайте кожну з зазначених операцій над зазначеними оʼєктами і виведіть результат на екран:\n",
        "1. Додайте до кожного значення вектора `vector` число 10 і округліть кожне значення до 2 знаків після коми без використання циклів.\n",
        "2. Помножте кожен елемент матриці з першого завдання на 2 без використання циклів.\n",
        "3. Створіть новий вектор, який містить квадрат кожного `vector` без циклів.\n"
      ],
      "metadata": {
        "id": "TSJ1P4OuOVe2"
      }
    },
    {
      "cell_type": "code",
      "source": [
        "vector_plus_10 = np.round(vector + 10, 2)\n",
        "vector_plus_10"
      ],
      "metadata": {
        "colab": {
          "base_uri": "https://localhost:8080/"
        },
        "id": "3hPRYF6ib2zw",
        "outputId": "4460cd8f-13ca-440e-a6ac-610b366d2277"
      },
      "execution_count": 8,
      "outputs": [
        {
          "output_type": "execute_result",
          "data": {
            "text/plain": [
              "array([10.13, 10.58, 10.12, 10.83, 10.43, 10.53, 10.66, 10.05, 10.19,\n",
              "       10.39])"
            ]
          },
          "metadata": {},
          "execution_count": 8
        }
      ]
    },
    {
      "cell_type": "code",
      "source": [
        "matrix_2 = matrix * 2\n",
        "\n",
        "matrix_2"
      ],
      "metadata": {
        "colab": {
          "base_uri": "https://localhost:8080/"
        },
        "id": "7uDqzQC_b8xi",
        "outputId": "59fb69e8-7eaf-475d-e64d-f0c7cfa530f5"
      },
      "execution_count": 9,
      "outputs": [
        {
          "output_type": "execute_result",
          "data": {
            "text/plain": [
              "array([[22, 40, 58],\n",
              "       [28, 46, 64],\n",
              "       [34, 52, 70]])"
            ]
          },
          "metadata": {},
          "execution_count": 9
        }
      ]
    },
    {
      "cell_type": "code",
      "source": [
        "vector_squared = vector**2\n",
        "vector_squared"
      ],
      "metadata": {
        "id": "nAAojtyUVJXN",
        "colab": {
          "base_uri": "https://localhost:8080/"
        },
        "outputId": "6d875766-ae5c-4d27-82e7-1d5166e18551"
      },
      "execution_count": 10,
      "outputs": [
        {
          "output_type": "execute_result",
          "data": {
            "text/plain": [
              "array([0.01595076, 0.33974724, 0.01417558, 0.68074211, 0.18470661,\n",
              "       0.28558587, 0.44112644, 0.00247668, 0.03653619, 0.14834381])"
            ]
          },
          "metadata": {},
          "execution_count": 10
        }
      ]
    },
    {
      "cell_type": "markdown",
      "source": [
        "\n",
        "### Завдання 3: Множення матриць\n",
        "1. Задані дві матриці `A` і `B`розмірностями 3x2 та 2х3. Виконайте їхнє множення, щоб отримати матрицю 2x2. Виведіть результуючу матрицю `result_matrix` на екран.\n",
        "\n",
        "2. Заданий вектор `C` розмірністю 2х1. Подумайте спочатку, яку розмірність Ви отрмаєте, коли домножите `result_matrix` на вектор `C` і який результат буде. А потім виконайте множення і виведіть результат на екран.\n",
        "\n",
        "3. Задана матриця `D` розмірністю 2х2. Подумайте спочатку, яку розмірність Ви отрмаєте, коли домножите `result_matrix` на матрицю `D` і який результат буде. А потім виконайте множення і виведіть результат на екран."
      ],
      "metadata": {
        "id": "u6RvWVfhPy-k"
      }
    },
    {
      "cell_type": "code",
      "source": [
        "A = np.array(\n",
        "    [[0.18, 0.53],\n",
        "     [0.75, 0.47],\n",
        "     [0.35, 0.21]])\n",
        "\n",
        "B = np.array(\n",
        "    [[0.17, 0.58, 0.75],\n",
        "     [0.38, 0.11, 0.15]])\n",
        "\n",
        "C = np.array([[0], [1]])\n",
        "\n",
        "D = np.array([[0,1], [1,0]])\n",
        "\n",
        "display(A, B, C, D)"
      ],
      "metadata": {
        "id": "RwXfPzlbSJ44",
        "colab": {
          "base_uri": "https://localhost:8080/",
          "height": 183
        },
        "outputId": "aaa4fb82-df9e-4388-962b-cf67bc608579"
      },
      "execution_count": 11,
      "outputs": [
        {
          "output_type": "display_data",
          "data": {
            "text/plain": [
              "array([[0.18, 0.53],\n",
              "       [0.75, 0.47],\n",
              "       [0.35, 0.21]])"
            ]
          },
          "metadata": {}
        },
        {
          "output_type": "display_data",
          "data": {
            "text/plain": [
              "array([[0.17, 0.58, 0.75],\n",
              "       [0.38, 0.11, 0.15]])"
            ]
          },
          "metadata": {}
        },
        {
          "output_type": "display_data",
          "data": {
            "text/plain": [
              "array([[0],\n",
              "       [1]])"
            ]
          },
          "metadata": {}
        },
        {
          "output_type": "display_data",
          "data": {
            "text/plain": [
              "array([[0, 1],\n",
              "       [1, 0]])"
            ]
          },
          "metadata": {}
        }
      ]
    },
    {
      "cell_type": "code",
      "source": [
        "result_matrix = np.dot(B, A)\n",
        "\n",
        "result_matrix"
      ],
      "metadata": {
        "id": "z7-boTbhVKkj",
        "colab": {
          "base_uri": "https://localhost:8080/"
        },
        "outputId": "ce89b8ef-88b0-4c4b-ff1b-3154f7315cde"
      },
      "execution_count": 17,
      "outputs": [
        {
          "output_type": "execute_result",
          "data": {
            "text/plain": [
              "array([[0.7281, 0.5202],\n",
              "       [0.2034, 0.2846]])"
            ]
          },
          "metadata": {},
          "execution_count": 17
        }
      ]
    },
    {
      "cell_type": "markdown",
      "source": [
        "Коли ми множимо матрицю\n",
        "result_matrix\n",
        "result_matrix розмірності\n",
        "2×2 на вектор\n",
        "C розмірності\n",
        "2×1, отримуємо новий вектор розмірності\n",
        "2×1"
      ],
      "metadata": {
        "id": "rbsEDj0He2HQ"
      }
    },
    {
      "cell_type": "code",
      "source": [
        "result_matrix_2 = np.dot(result_matrix, C)\n",
        "result_matrix_2"
      ],
      "metadata": {
        "colab": {
          "base_uri": "https://localhost:8080/"
        },
        "id": "hC__EjDQeU7f",
        "outputId": "e8f2bdc0-9496-45a8-9f44-c0edd4a0c596"
      },
      "execution_count": 21,
      "outputs": [
        {
          "output_type": "execute_result",
          "data": {
            "text/plain": [
              "array([[0.5202],\n",
              "       [0.2846]])"
            ]
          },
          "metadata": {},
          "execution_count": 21
        }
      ]
    },
    {
      "cell_type": "markdown",
      "source": [
        "Коли ми множимо матрицю\n",
        "result_matrix розмірності\n",
        "2×2 на матрицю\n",
        "D розмірності\n",
        "2×2, результуюча матриця буде також розмірності\n",
        "2×2"
      ],
      "metadata": {
        "id": "hw7excx1fW2w"
      }
    },
    {
      "cell_type": "code",
      "source": [
        "result_with_D = np.dot(result_matrix, D)\n",
        "\n",
        "result_with_D"
      ],
      "metadata": {
        "colab": {
          "base_uri": "https://localhost:8080/"
        },
        "id": "b2nGmE0LfeBi",
        "outputId": "9cba3ff9-4724-4b3f-cbc7-22e12af07f5b"
      },
      "execution_count": 23,
      "outputs": [
        {
          "output_type": "execute_result",
          "data": {
            "text/plain": [
              "array([[0.5202, 0.7281],\n",
              "       [0.2846, 0.2034]])"
            ]
          },
          "metadata": {},
          "execution_count": 23
        }
      ]
    },
    {
      "cell_type": "markdown",
      "source": [
        "\n",
        "### Завдання 4: Транспонування матриць\n",
        "1. Транспонуйте `result_matrix`.\n",
        "2. Зробіть транспонування вектора `vector` і виведіть форму нової структури. Чи бачите ви зміну?\n",
        "3. Використайте операцію `numpy.expand_dims` над вектором `vector` з аргументом axis=1. Запишіть отриманий результат в змінну `column_vector` і виведіть на екран. Порівняйте з `vector`.\n",
        "4. Зробіть транспонування `column_vector`, виведіть результат на екран разом з розмірностями отриманої структури.\n",
        "\n",
        "\n"
      ],
      "metadata": {
        "id": "wohp0_cxSGpl"
      }
    },
    {
      "cell_type": "code",
      "source": [
        "result_matrix_t = result_matrix.T\n",
        "result_matrix_t"
      ],
      "metadata": {
        "id": "4hFcq1baVLii",
        "colab": {
          "base_uri": "https://localhost:8080/"
        },
        "outputId": "8853973a-1064-4457-edf8-c009095019c0"
      },
      "execution_count": 26,
      "outputs": [
        {
          "output_type": "execute_result",
          "data": {
            "text/plain": [
              "array([[0.7281, 0.2034],\n",
              "       [0.5202, 0.2846]])"
            ]
          },
          "metadata": {},
          "execution_count": 26
        }
      ]
    },
    {
      "cell_type": "code",
      "source": [
        "print('result_matrix:')\n",
        "print(result_matrix)\n",
        "print('result_matrix_t:')\n",
        "print(result_matrix_t)"
      ],
      "metadata": {
        "colab": {
          "base_uri": "https://localhost:8080/"
        },
        "id": "PxbZnR-Qf_Tc",
        "outputId": "c399cb66-49f9-4f6f-b272-be203494bc9c"
      },
      "execution_count": 31,
      "outputs": [
        {
          "output_type": "stream",
          "name": "stdout",
          "text": [
            "result_matrix:\n",
            "[[0.7281 0.5202]\n",
            " [0.2034 0.2846]]\n",
            "result_matrix_t:\n",
            "[[0.7281 0.2034]\n",
            " [0.5202 0.2846]]\n"
          ]
        }
      ]
    },
    {
      "cell_type": "code",
      "source": [
        "vector_t = vector.T"
      ],
      "metadata": {
        "id": "uQ8eKY35gpla"
      },
      "execution_count": 41,
      "outputs": []
    },
    {
      "cell_type": "code",
      "source": [
        "print('vector:')\n",
        "print(vector)\n",
        "print('vector_t:')\n",
        "print(vector_t)"
      ],
      "metadata": {
        "colab": {
          "base_uri": "https://localhost:8080/"
        },
        "id": "tNuBIiwwgujt",
        "outputId": "ca694aef-005c-4b4e-d5bb-6b6369c44aeb"
      },
      "execution_count": 42,
      "outputs": [
        {
          "output_type": "stream",
          "name": "stdout",
          "text": [
            "vector:\n",
            "[0.3667155  0.48502077 0.22026366 0.49528836 0.69895206 0.692657\n",
            " 0.3004871  0.14959732 0.98691003 0.44585288]\n",
            "vector_t:\n",
            "[0.3667155  0.48502077 0.22026366 0.49528836 0.69895206 0.692657\n",
            " 0.3004871  0.14959732 0.98691003 0.44585288]\n"
          ]
        }
      ]
    },
    {
      "cell_type": "code",
      "source": [
        "vector.shape"
      ],
      "metadata": {
        "colab": {
          "base_uri": "https://localhost:8080/"
        },
        "id": "FPZgZaDVhE7J",
        "outputId": "c88b66e5-2928-4adc-b9cb-1084ae1a94b5"
      },
      "execution_count": 43,
      "outputs": [
        {
          "output_type": "execute_result",
          "data": {
            "text/plain": [
              "(10,)"
            ]
          },
          "metadata": {},
          "execution_count": 43
        }
      ]
    },
    {
      "cell_type": "code",
      "source": [
        "vector_t.shape"
      ],
      "metadata": {
        "colab": {
          "base_uri": "https://localhost:8080/"
        },
        "id": "5pBMEA0iiBDd",
        "outputId": "8e1da808-549b-4a03-a081-c85f6719833e"
      },
      "execution_count": 44,
      "outputs": [
        {
          "output_type": "execute_result",
          "data": {
            "text/plain": [
              "(10,)"
            ]
          },
          "metadata": {},
          "execution_count": 44
        }
      ]
    },
    {
      "cell_type": "markdown",
      "source": [
        "Після транспонування вектора\n",
        "vector\n",
        "vector:\n",
        "\n",
        "Початкова форма:\n",
        "(10,)\n",
        "Транспонована форма:\n",
        "(10,)"
      ],
      "metadata": {
        "id": "oNwksbeChs72"
      }
    },
    {
      "cell_type": "code",
      "source": [
        "column_vector = np.expand_dims(vector, axis=1)"
      ],
      "metadata": {
        "id": "MutlbwiXhnZs"
      },
      "execution_count": 45,
      "outputs": []
    },
    {
      "cell_type": "code",
      "source": [
        "column_vector"
      ],
      "metadata": {
        "colab": {
          "base_uri": "https://localhost:8080/"
        },
        "id": "tz3PUP3HiiMe",
        "outputId": "f92389c3-aff7-4c02-c188-a406b71a8562"
      },
      "execution_count": 46,
      "outputs": [
        {
          "output_type": "execute_result",
          "data": {
            "text/plain": [
              "array([[0.3667155 ],\n",
              "       [0.48502077],\n",
              "       [0.22026366],\n",
              "       [0.49528836],\n",
              "       [0.69895206],\n",
              "       [0.692657  ],\n",
              "       [0.3004871 ],\n",
              "       [0.14959732],\n",
              "       [0.98691003],\n",
              "       [0.44585288]])"
            ]
          },
          "metadata": {},
          "execution_count": 46
        }
      ]
    },
    {
      "cell_type": "code",
      "source": [
        "vector"
      ],
      "metadata": {
        "colab": {
          "base_uri": "https://localhost:8080/"
        },
        "id": "YIUQawx6iqo7",
        "outputId": "f59cae09-9736-4598-d2d6-3f2afc1a7d1b"
      },
      "execution_count": 47,
      "outputs": [
        {
          "output_type": "execute_result",
          "data": {
            "text/plain": [
              "array([0.3667155 , 0.48502077, 0.22026366, 0.49528836, 0.69895206,\n",
              "       0.692657  , 0.3004871 , 0.14959732, 0.98691003, 0.44585288])"
            ]
          },
          "metadata": {},
          "execution_count": 47
        }
      ]
    },
    {
      "cell_type": "code",
      "source": [
        "vector.shape"
      ],
      "metadata": {
        "colab": {
          "base_uri": "https://localhost:8080/"
        },
        "id": "DqupX5qXiw1q",
        "outputId": "32991c58-88da-4b63-fe4d-68041db79a80"
      },
      "execution_count": 48,
      "outputs": [
        {
          "output_type": "execute_result",
          "data": {
            "text/plain": [
              "(10,)"
            ]
          },
          "metadata": {},
          "execution_count": 48
        }
      ]
    },
    {
      "cell_type": "code",
      "source": [
        "column_vector.shape"
      ],
      "metadata": {
        "colab": {
          "base_uri": "https://localhost:8080/"
        },
        "id": "HROA8zRxi5Vw",
        "outputId": "675b86a3-5b0c-4ab5-a182-87ed5817d95e"
      },
      "execution_count": 49,
      "outputs": [
        {
          "output_type": "execute_result",
          "data": {
            "text/plain": [
              "(10, 1)"
            ]
          },
          "metadata": {},
          "execution_count": 49
        }
      ]
    },
    {
      "cell_type": "markdown",
      "source": [
        "Форма вектора змінюється з одномірного масиву (10,) на двовимірний стовпчик (10,1)"
      ],
      "metadata": {
        "id": "GxqKcKinjAia"
      }
    },
    {
      "cell_type": "code",
      "source": [
        "transposed_column_vector = column_vector.T"
      ],
      "metadata": {
        "id": "558RYiwvjSCF"
      },
      "execution_count": 50,
      "outputs": []
    },
    {
      "cell_type": "code",
      "source": [
        "print(\"column_vector (original):\")\n",
        "print(column_vector)\n",
        "print(\"Shape:\", column_vector.shape)\n",
        "\n",
        "print(\"\\ntransposed_column_vector:\")\n",
        "print(transposed_column_vector)\n",
        "print(\"Shape:\", transposed_column_vector.shape)"
      ],
      "metadata": {
        "colab": {
          "base_uri": "https://localhost:8080/"
        },
        "id": "oHO3owXijV-p",
        "outputId": "478bc2f2-8b6b-4a66-d47a-ada97aa2810f"
      },
      "execution_count": 51,
      "outputs": [
        {
          "output_type": "stream",
          "name": "stdout",
          "text": [
            "column_vector (original):\n",
            "[[0.3667155 ]\n",
            " [0.48502077]\n",
            " [0.22026366]\n",
            " [0.49528836]\n",
            " [0.69895206]\n",
            " [0.692657  ]\n",
            " [0.3004871 ]\n",
            " [0.14959732]\n",
            " [0.98691003]\n",
            " [0.44585288]]\n",
            "Shape: (10, 1)\n",
            "\n",
            "transposed_column_vector:\n",
            "[[0.3667155  0.48502077 0.22026366 0.49528836 0.69895206 0.692657\n",
            "  0.3004871  0.14959732 0.98691003 0.44585288]]\n",
            "Shape: (1, 10)\n"
          ]
        }
      ]
    }
  ]
}